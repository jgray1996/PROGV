{
 "cells": [
  {
   "cell_type": "code",
   "execution_count": 1,
   "metadata": {},
   "outputs": [],
   "source": [
    "%load_ext autoreload\n",
    "%autoreload 2"
   ]
  },
  {
   "cell_type": "code",
   "execution_count": 2,
   "metadata": {},
   "outputs": [],
   "source": [
    "from src.file_reader import GenbankReader\n",
    "from src.genbank_parser import GenbankParser"
   ]
  },
  {
   "cell_type": "code",
   "execution_count": 3,
   "metadata": {},
   "outputs": [],
   "source": [
    "reader = GenbankReader()\n",
    "parser = GenbankParser()"
   ]
  },
  {
   "cell_type": "code",
   "execution_count": 84,
   "metadata": {},
   "outputs": [],
   "source": [
    "files_generator = reader.read_files()\n",
    "file_paths = reader.get_files()"
   ]
  },
  {
   "cell_type": "code",
   "execution_count": 89,
   "metadata": {},
   "outputs": [
    {
     "data": {
      "text/plain": [
       "{'accession_numbers': ['NZ_WWVI01000074', 'NZ_WWVI01000000'],\n",
       " 'genome_size': 14996,\n",
       " 'db_codes': ('RJNA224116', 'AMN11945259', 'GCF_009881425.1'),\n",
       " 'publication': Reference(title='A library of human gut bacterial isolates paired with longitudinal multiomics data enables mechanistic microbiome research', ...),\n",
       " 'pubmed_id': '31477907',\n",
       " 'publication_year': 2019,\n",
       " 'current_version': '03-APR-2022',\n",
       " 'organism': 'Blautia wexlerae',\n",
       " 'taxonomy': ['Bacteria',\n",
       "  'Firmicutes',\n",
       "  'Clostridia',\n",
       "  'Eubacteriales',\n",
       "  'Lachnospiraceae',\n",
       "  'Blautia'],\n",
       " 'n_features': 16,\n",
       " 'n_coding': 16}"
      ]
     },
     "execution_count": 89,
     "metadata": {},
     "output_type": "execute_result"
    }
   ],
   "source": [
    "parser.parse_record(next(reader.read_files()))\n",
    "# for record in reader.read_files():\n",
    "#     print(parser.parse_record(record))"
   ]
  },
  {
   "cell_type": "code",
   "execution_count": null,
   "metadata": {
    "vscode": {
     "languageId": "sql"
    }
   },
   "outputs": [],
   "source": [
    "-- Insert a species with GenBank information\n",
    "INSERT INTO species (\n",
    "    species_name, \n",
    "    genus_name,\n",
    "    accession_number,\n",
    "    genome_size,\n",
    "    assembly_id,\n",
    "    bioproject_id,\n",
    "    biosample_id,\n",
    "    pubmed_id,\n",
    "    first_article_year,\n",
    "    genbank_version_year,\n",
    "    total_genes,\n",
    "    coding_genes\n",
    ") VALUES (\n",
    "    'coli',\n",
    "    'Escherichia',\n",
    "    'NC_000913.3',\n",
    "    4641652,\n",
    "    'GCF_000005845.2',\n",
    "    'PRJNA57779',\n",
    "    'SAMN02604091',\n",
    "    '8905231',\n",
    "    1997,\n",
    "    2021,\n",
    "    4464,\n",
    "    4140\n",
    ");"
   ]
  }
 ],
 "metadata": {
  "kernelspec": {
   "display_name": "progiv",
   "language": "python",
   "name": "python3"
  },
  "language_info": {
   "codemirror_mode": {
    "name": "ipython",
    "version": 3
   },
   "file_extension": ".py",
   "mimetype": "text/x-python",
   "name": "python",
   "nbconvert_exporter": "python",
   "pygments_lexer": "ipython3",
   "version": "3.10.16"
  }
 },
 "nbformat": 4,
 "nbformat_minor": 2
}
