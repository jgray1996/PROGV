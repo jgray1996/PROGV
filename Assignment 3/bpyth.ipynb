{
 "cells": [
  {
   "cell_type": "code",
   "execution_count": 1,
   "metadata": {},
   "outputs": [],
   "source": [
    "%load_ext autoreload\n",
    "%autoreload 2"
   ]
  },
  {
   "cell_type": "code",
   "execution_count": null,
   "metadata": {},
   "outputs": [],
   "source": [
    "from src.file_reader import GenbankReader\n",
    "from src.genbank_parser import GenbankParser\n",
    "from src.database_handler import DatabaseHandler"
   ]
  },
  {
   "cell_type": "code",
   "execution_count": null,
   "metadata": {},
   "outputs": [],
   "source": [
    "reader = GenbankReader()\n",
    "parser = GenbankParser()\n",
    "db_handler = DatabaseHandler(\"genbank.db\", initialize=True)\n"
   ]
  },
  {
   "cell_type": "code",
   "execution_count": null,
   "metadata": {},
   "outputs": [],
   "source": [
    "for record in reader.read_files():\n",
    "    r= parser.parse_record(record)\n",
    "    db_handler.insert_ncbi_data(r)"
   ]
  }
 ],
 "metadata": {
  "kernelspec": {
   "display_name": "progiv",
   "language": "python",
   "name": "python3"
  },
  "language_info": {
   "codemirror_mode": {
    "name": "ipython",
    "version": 3
   },
   "file_extension": ".py",
   "mimetype": "text/x-python",
   "name": "python",
   "nbconvert_exporter": "python",
   "pygments_lexer": "ipython3",
   "version": "3.10.16"
  }
 },
 "nbformat": 4,
 "nbformat_minor": 2
}
